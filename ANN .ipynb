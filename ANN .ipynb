{
 "cells": [
  {
   "cell_type": "code",
   "execution_count": 1,
   "metadata": {},
   "outputs": [
    {
     "name": "stderr",
     "output_type": "stream",
     "text": [
      "C:\\Users\\Scientist_Darren\\anaconda3\\lib\\importlib\\_bootstrap.py:219: RuntimeWarning: numpy.ufunc size changed, may indicate binary incompatibility. Expected 192 from C header, got 216 from PyObject\n",
      "  return f(*args, **kwds)\n"
     ]
    }
   ],
   "source": [
    "import numpy as np\n",
    "import pandas as pd\n",
    "import matplotlib.pyplot as plt\n",
    "from sklearn import preprocessing\n",
    "from sklearn.model_selection import train_test_split"
   ]
  },
  {
   "cell_type": "code",
   "execution_count": 2,
   "metadata": {},
   "outputs": [],
   "source": [
    "df = pd.read_csv('weight-height.csv')\n",
    "x = df.iloc[:,2:3]\n",
    "y = df.iloc[:,1:2]\n",
    "n = len(x)"
   ]
  },
  {
   "cell_type": "code",
   "execution_count": 3,
   "metadata": {},
   "outputs": [],
   "source": [
    "min_max_scaler = preprocessing.MinMaxScaler()\n",
    "x_scaled = min_max_scaler.fit_transform(x)\n",
    "target = min_max_scaler.fit_transform(y)"
   ]
  },
  {
   "cell_type": "code",
   "execution_count": 4,
   "metadata": {},
   "outputs": [
    {
     "data": {
      "text/plain": [
       "array([[1.        , 0.863139  ],\n",
       "       [1.        , 0.4754764 ],\n",
       "       [1.        , 0.72113127],\n",
       "       ...,\n",
       "       [1.        , 0.31065968],\n",
       "       [1.        , 0.48298768],\n",
       "       [1.        , 0.23843869]])"
      ]
     },
     "execution_count": 4,
     "metadata": {},
     "output_type": "execute_result"
    }
   ],
   "source": [
    "X = np.c_[np.ones(n), x_scaled]\n",
    "X"
   ]
  },
  {
   "cell_type": "code",
   "execution_count": 7,
   "metadata": {},
   "outputs": [],
   "source": [
    "x_train, x_test, y_train, y_test = train_test_split(x_scaled, target, test_size=0.3)"
   ]
  },
  {
   "cell_type": "code",
   "execution_count": 26,
   "metadata": {},
   "outputs": [],
   "source": [
    "# Design Matrix\n",
    "def design_matrix(x):\n",
    "    n = len(x)\n",
    "    X = np.c_[np.ones(n), x]\n",
    "    return (X)\n",
    "\n",
    "X_train = design_matrix(x_train)\n",
    "X_test = design_matrix(x_test)"
   ]
  },
  {
   "cell_type": "code",
   "execution_count": 27,
   "metadata": {},
   "outputs": [
    {
     "data": {
      "text/plain": [
       "array([[0.05623484],\n",
       "       [0.91828234]])"
      ]
     },
     "execution_count": 27,
     "metadata": {},
     "output_type": "execute_result"
    }
   ],
   "source": [
    "wu = np.linalg.inv(X_train.T.dot(X_train)).dot(X_train.T).dot(y_train)\n",
    "wu"
   ]
  },
  {
   "cell_type": "code",
   "execution_count": 28,
   "metadata": {},
   "outputs": [],
   "source": [
    "u11 = wu[0] + wu[1]*x_train"
   ]
  },
  {
   "cell_type": "code",
   "execution_count": 29,
   "metadata": {},
   "outputs": [],
   "source": [
    "def sigmoid(x):\n",
    "    return 1/(1 + np.exp(-x))"
   ]
  },
  {
   "cell_type": "code",
   "execution_count": 30,
   "metadata": {},
   "outputs": [],
   "source": [
    "def sigmoid_dev(x):\n",
    "    return sigmoid(x)*(1 - sigmoid(x))"
   ]
  },
  {
   "cell_type": "code",
   "execution_count": 31,
   "metadata": {},
   "outputs": [
    {
     "data": {
      "text/plain": [
       "array([[0.60005527],\n",
       "       [0.58206288],\n",
       "       [0.66290861],\n",
       "       ...,\n",
       "       [0.65970627],\n",
       "       [0.60335818],\n",
       "       [0.60114493]])"
      ]
     },
     "execution_count": 31,
     "metadata": {},
     "output_type": "execute_result"
    }
   ],
   "source": [
    "O11 = sigmoid(u11)\n",
    "O11"
   ]
  },
  {
   "cell_type": "code",
   "execution_count": 21,
   "metadata": {},
   "outputs": [
    {
     "data": {
      "text/plain": [
       "array([[0.05540155],\n",
       "       [0.9227831 ]])"
      ]
     },
     "execution_count": 21,
     "metadata": {},
     "output_type": "execute_result"
    }
   ],
   "source": [
    "w2 =  np.linalg.inv(X_test.T.dot(X_test)).dot(X_test.T).dot(y_test)\n",
    "w2"
   ]
  },
  {
   "cell_type": "code",
   "execution_count": 22,
   "metadata": {},
   "outputs": [
    {
     "data": {
      "text/plain": [
       "array([[0.55372086],\n",
       "       [0.53711779],\n",
       "       [0.61172086],\n",
       "       ...,\n",
       "       [0.60876579],\n",
       "       [0.55676873],\n",
       "       [0.55472638]])"
      ]
     },
     "execution_count": 22,
     "metadata": {},
     "output_type": "execute_result"
    }
   ],
   "source": [
    "u21 = w2[1]*O11\n",
    "u21"
   ]
  },
  {
   "cell_type": "code",
   "execution_count": 43,
   "metadata": {},
   "outputs": [],
   "source": [
    "def derivative_wu0(x_train, y_train, y_hat, n):\n",
    "    return (-1/n) * sum(y_train - y_hat)"
   ]
  },
  {
   "cell_type": "code",
   "execution_count": 44,
   "metadata": {},
   "outputs": [],
   "source": [
    "def derivative_wu1(x_train, y_train, y_hat, n):\n",
    "    return (-1/n)*sum((y_train - y_hat)*x_train)"
   ]
  },
  {
   "cell_type": "code",
   "execution_count": 47,
   "metadata": {},
   "outputs": [
    {
     "name": "stdout",
     "output_type": "stream",
     "text": [
      "[0.05623484]\n",
      "[0.91828234]\n"
     ]
    }
   ],
   "source": [
    "bias = np.random.rand(1)\n",
    "Epochs = 1000\n",
    "lr = 0.001\n",
    "\n",
    "for i in range(Epochs):\n",
    "    y_hat = u21\n",
    "    wu_0 = wu[0] - lr*derivative_wu0(x_train,y_train,y_hat,n)\n",
    "    wu_1 = wu[1] - lr*derivative_wu1(x_train,y_train, y_hat, n)\n",
    "    \n",
    "print(wu[0])\n",
    "print(wu[1])"
   ]
  },
  {
   "cell_type": "code",
   "execution_count": 58,
   "metadata": {},
   "outputs": [],
   "source": [
    "def y_hat(x_test, wu, w2):\n",
    "    return((w2[1]/(1 + np.exp(-wu[0]-wu[1]*x_test)))*(w2[1]/(1+np.exp(-wu[0]-wu[1]*x_test))))\n",
    "\n",
    "dsv = y_hat(x_test, wu, w2)"
   ]
  },
  {
   "cell_type": "code",
   "execution_count": 61,
   "metadata": {},
   "outputs": [],
   "source": [
    "epochs = 500\n",
    "lr = 0.001\n",
    "y_pred = sigmoid(X_test)\n",
    "cost_f = []\n",
    "weights = []\n",
    "\n",
    "def model(y_true, y_pred,z,x,epochs, dsv, lr):\n",
    "    sig = 0\n",
    "    for i in range(epochs):\n",
    "        y_true = y_true.reshape(len(y_true), 1)\n",
    "        sig = -np.sum((y_hat*np.exp(z) + (1-y_hat)*np.exp(1 - z)))\n",
    "        cost.append(sig)\n",
    "        \n",
    "        z = z - (lr*(1/n)*sum(y_pred - y_hat))\n",
    "        \n",
    "    return (cost, weights)"
   ]
  },
  {
   "cell_type": "code",
   "execution_count": 73,
   "metadata": {},
   "outputs": [
    {
     "data": {
      "image/png": "[encoded data removed]",
      "text/plain": [
       "<Figure size 432x288 with 1 Axes>"
      ]
     },
     "metadata": {
      "needs_background": "light"
     },
     "output_type": "display_data"
    }
   ],
   "source": [
    "plt.plot(x_train, y_train, '.')\n",
    "plt.plot(x_train,O11)\n",
    "plt.plot(x_train, u11)\n",
    "plt.plot(x_train, u21)\n",
    "plt.show()"
   ]
  },
  {
   "cell_type": "code",
   "execution_count": null,
   "metadata": {},
   "outputs": [],
   "source": []
  }
 ],
 "metadata": {
  "kernelspec": {
   "display_name": "Python 3",
   "language": "python",
   "name": "python3"
  },
  "language_info": {
   "codemirror_mode": {
    "name": "ipython",
    "version": 3
   },
   "file_extension": ".py",
   "mimetype": "text/x-python",
   "name": "python",
   "nbconvert_exporter": "python",
   "pygments_lexer": "ipython3",
   "version": "3.7.6"
  }
 },
 "nbformat": 4,
 "nbformat_minor": 4
}
