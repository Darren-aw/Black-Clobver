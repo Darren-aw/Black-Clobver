{
 "cells": [
  {
   "cell_type": "code",
   "execution_count": 38,
   "metadata": {},
   "outputs": [],
   "source": [
    "import numpy as np\n",
    "import matplotlib.pyplot as plt\n",
    "import random\n",
    "from scipy.stats import distributions as dist"
   ]
  },
  {
   "cell_type": "code",
   "execution_count": 100,
   "metadata": {},
   "outputs": [],
   "source": [
    "n = 200\n",
    "random.seed(123)\n",
    "x = np.random.uniform(0, 200, n)\n",
    "x = x[np.argsort(x)]\n",
    "x_test = dist.uniform(200, 300).rvs(n)\n",
    "y = 5 + x**1 + x**2 + x**3\n",
    "y_obs = y + np.random.normal(0, 900000, n)"
   ]
  },
  {
   "cell_type": "code",
   "execution_count": 101,
   "metadata": {},
   "outputs": [],
   "source": [
    "#x_train = x[x < 200]\n",
    "#x_test = x[x >= 200]\n",
    "n_train = len(x)\n",
    "n_test = len(x_test)\n",
    "y_train = y_obs[x < 200]\n",
    "y_test = y_obs[x >= 200]"
   ]
  },
  {
   "cell_type": "code",
   "execution_count": 102,
   "metadata": {},
   "outputs": [],
   "source": [
    "X_train = np.c_[np.ones(n), x, x**2, x**3, x**4, x**5, x**6]"
   ]
  },
  {
   "cell_type": "code",
   "execution_count": 107,
   "metadata": {},
   "outputs": [
    {
     "data": {
      "text/plain": [
       "[<matplotlib.lines.Line2D at 0x22fd7a66508>]"
      ]
     },
     "execution_count": 107,
     "metadata": {},
     "output_type": "execute_result"
    },
    {
     "data": {
      "image/png": "[encoded data removed]",
      "text/plain": [
       "<Figure size 432x288 with 1 Axes>"
      ]
     },
     "metadata": {
      "needs_background": "light"
     },
     "output_type": "display_data"
    }
   ],
   "source": [
    "plt.plot(x,y)\n",
    "plt.plot(x, y_obs, '.')\n",
    "plt.plot(x_test,θ1[0] + , '.')"
   ]
  },
  {
   "cell_type": "code",
   "execution_count": 104,
   "metadata": {},
   "outputs": [],
   "source": [
    "I = np.eye(7)\n",
    "I[0, 0] = 0"
   ]
  },
  {
   "cell_type": "code",
   "execution_count": 108,
   "metadata": {},
   "outputs": [],
   "source": [
    "lam1 = 0\n",
    "lam2 = 0.5\n",
    "lam3 = 10\n",
    "lam4 = 20\n",
    "lam5 = 30\n",
    "lam6 = 80\n",
    "lam7 = 100\n",
    "lam8 = 200\n",
    "lam = (0, 0.5, 10, 20, 30, 80, 100, 200)"
   ]
  },
  {
   "cell_type": "code",
   "execution_count": 109,
   "metadata": {},
   "outputs": [],
   "source": [
    "θ1 = np.linalg.inv(X_train.T.dot(X_train) + lam1*(I)).dot(X_train.T).dot(y_obs)\n",
    "θ2 = np.linalg.inv(X_train.T.dot(X_train) + lam2*(I)).dot(X_train.T).dot(y_obs)\n",
    "θ3 = np.linalg.inv(X_train.T.dot(X_train) + lam3*(I)).dot(X_train.T).dot(y_obs)\n",
    "θ4 = np.linalg.inv(X_train.T.dot(X_train) + lam4*(I)).dot(X_train.T).dot(y_obs)\n",
    "θ5 = np.linalg.inv(X_train.T.dot(X_train) + lam5*(I)).dot(X_train.T).dot(y_obs)\n",
    "θ6 = np.linalg.inv(X_train.T.dot(X_train) + lam6*(I)).dot(X_train.T).dot(y_obs)\n",
    "θ7 = np.linalg.inv(X_train.T.dot(X_train) + lam7*(I)).dot(X_train.T).dot(y_obs)\n",
    "θ8 = np.linalg.inv(X_train.T.dot(X_train) + lam8*(I)).dot(X_train.T).dot(y_obs)"
   ]
  },
  {
   "cell_type": "code",
   "execution_count": 110,
   "metadata": {},
   "outputs": [],
   "source": [
    "σ1 = (1/n)*((y_obs - X_train.dot(θ1)).T.dot(y_obs - X_train.dot(θ1)))\n",
    "σ2 = (1/n)*((y_obs - X_train.dot(θ2)).T.dot(y_obs - X_train.dot(θ2)))\n",
    "σ3 = (1/n)*((y_obs - X_train.dot(θ3)).T.dot(y_obs - X_train.dot(θ3)))\n",
    "σ4 = (1/n)*((y_obs - X_train.dot(θ4)).T.dot(y_obs - X_train.dot(θ4)))\n",
    "σ5 = (1/n)*((y_obs - X_train.dot(θ5)).T.dot(y_obs - X_train.dot(θ5)))\n",
    "σ6 = (1/n)*((y_obs - X_train.dot(θ6)).T.dot(y_obs - X_train.dot(θ6)))\n",
    "σ7 = (1/n)*((y_obs - X_train.dot(θ7)).T.dot(y_obs - X_train.dot(θ7)))\n",
    "σ8 = (1/n)*((y_obs - X_train.dot(θ8)).T.dot(y_obs - X_train.dot(θ8)))"
   ]
  },
  {
   "cell_type": "code",
   "execution_count": 113,
   "metadata": {},
   "outputs": [],
   "source": [
    "X_test = np.c_[np.ones(n), x_test, x_test**2, x_test**3, x_test**4, x_test**5, x_test**6]"
   ]
  },
  {
   "cell_type": "code",
   "execution_count": 114,
   "metadata": {},
   "outputs": [
    {
     "data": {
      "text/plain": [
       "876962825985.3461"
      ]
     },
     "execution_count": 114,
     "metadata": {},
     "output_type": "execute_result"
    }
   ],
   "source": [
    "from sklearn.metrics import mean_squared_error\n",
    "mse = mean_squared_error(y, y_obs)\n",
    "mse"
   ]
  },
  {
   "cell_type": "code",
   "execution_count": 115,
   "metadata": {},
   "outputs": [],
   "source": [
    "mse1 = dist.norm(X_test.dot(θ1), σ1).rvs(n)\n",
    "mse2 = dist.norm(X_test.dot(θ2), σ2).rvs(n)\n",
    "mse3 = dist.norm(X_test.dot(θ3), σ3).rvs(n)\n",
    "mse4 = dist.norm(X_test.dot(θ4), σ4).rvs(n)\n",
    "mse5 = dist.norm(X_test.dot(θ5), σ5).rvs(n)\n",
    "mse6 = dist.norm(X_test.dot(θ6), σ6).rvs(n)\n",
    "mse7 = dist.norm(X_test.dot(θ7), σ7).rvs(n)\n",
    "mse8 = dist.norm(X_test.dot(θ8), σ8).rvs(n)"
   ]
  },
  {
   "cell_type": "code",
   "execution_count": 118,
   "metadata": {},
   "outputs": [
    {
     "data": {
      "text/plain": [
       "[<matplotlib.lines.Line2D at 0x22fd7e9a608>]"
      ]
     },
     "execution_count": 118,
     "metadata": {},
     "output_type": "execute_result"
    },
    {
     "data": {
      "image/png": "[encoded data removed]",
      "text/plain": [
       "<Figure size 432x288 with 1 Axes>"
      ]
     },
     "metadata": {
      "needs_background": "light"
     },
     "output_type": "display_data"
    }
   ],
   "source": [
    "plt.plot(x, y_obs, '.')\n",
    "plt.plot(x, y)\n",
    "plt.plot(x_test, θ1[0] + θ1[1]*x_test + θ1[2]*x_test**2 + θ1[3]*x_test**3 + θ1[4]*x_test**4 + θ1[5]*x_test**5 + θ1[6]*x_test**6)\n",
    "plt.plot(x_test, mse1, '.')"
   ]
  },
  {
   "cell_type": "code",
   "execution_count": null,
   "metadata": {},
   "outputs": [],
   "source": []
  }
 ],
 "metadata": {
  "kernelspec": {
   "display_name": "Python 3",
   "language": "python",
   "name": "python3"
  },
  "language_info": {
   "codemirror_mode": {
    "name": "ipython",
    "version": 3
   },
   "file_extension": ".py",
   "mimetype": "text/x-python",
   "name": "python",
   "nbconvert_exporter": "python",
   "pygments_lexer": "ipython3",
   "version": "3.7.6"
  }
 },
 "nbformat": 4,
 "nbformat_minor": 4
}
