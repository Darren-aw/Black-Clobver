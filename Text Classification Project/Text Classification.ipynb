{
 "cells": [
  {
   "cell_type": "code",
   "execution_count": 1,
   "metadata": {},
   "outputs": [],
   "source": [
    "import numpy as np\n",
    "import pandas as pd\n",
    "import seaborn as sns\n",
    "import matplotlib.pyplot as plt\n",
    "import warnings\n",
    "warnings.simplefilter('ignore')"
   ]
  },
  {
   "cell_type": "code",
   "execution_count": 2,
   "metadata": {},
   "outputs": [
    {
     "data": {
      "text/html": [
       "<div>\n",
       "<style scoped>\n",
       "    .dataframe tbody tr th:only-of-type {\n",
       "        vertical-align: middle;\n",
       "    }\n",
       "\n",
       "    .dataframe tbody tr th {\n",
       "        vertical-align: top;\n",
       "    }\n",
       "\n",
       "    .dataframe thead th {\n",
       "        text-align: right;\n",
       "    }\n",
       "</style>\n",
       "<table border=\"1\" class=\"dataframe\">\n",
       "  <thead>\n",
       "    <tr style=\"text-align: right;\">\n",
       "      <th></th>\n",
       "      <th>Id</th>\n",
       "      <th>Review</th>\n",
       "      <th>Label</th>\n",
       "    </tr>\n",
       "  </thead>\n",
       "  <tbody>\n",
       "    <tr>\n",
       "      <th>22878</th>\n",
       "      <td>22878</td>\n",
       "      <td>Brief and to the point</td>\n",
       "      <td>4</td>\n",
       "    </tr>\n",
       "    <tr>\n",
       "      <th>22055</th>\n",
       "      <td>22055</td>\n",
       "      <td>Really great class. I found the lectures easy ...</td>\n",
       "      <td>5</td>\n",
       "    </tr>\n",
       "    <tr>\n",
       "      <th>31713</th>\n",
       "      <td>31713</td>\n",
       "      <td>it is designed brillantly.Top-notch teachers. ...</td>\n",
       "      <td>5</td>\n",
       "    </tr>\n",
       "    <tr>\n",
       "      <th>58125</th>\n",
       "      <td>58125</td>\n",
       "      <td>I've always had passion for AI and in particul...</td>\n",
       "      <td>5</td>\n",
       "    </tr>\n",
       "    <tr>\n",
       "      <th>40873</th>\n",
       "      <td>40873</td>\n",
       "      <td>Covers the basic of Linear Regression, would l...</td>\n",
       "      <td>3</td>\n",
       "    </tr>\n",
       "  </tbody>\n",
       "</table>\n",
       "</div>"
      ],
      "text/plain": [
       "          Id                                             Review  Label\n",
       "22878  22878                             Brief and to the point      4\n",
       "22055  22055  Really great class. I found the lectures easy ...      5\n",
       "31713  31713  it is designed brillantly.Top-notch teachers. ...      5\n",
       "58125  58125  I've always had passion for AI and in particul...      5\n",
       "40873  40873  Covers the basic of Linear Regression, would l...      3"
      ]
     },
     "execution_count": 2,
     "metadata": {},
     "output_type": "execute_result"
    }
   ],
   "source": [
    "df = pd.read_csv('reviews.csv')\n",
    "df.sample(5)"
   ]
  },
  {
   "cell_type": "code",
   "execution_count": 3,
   "metadata": {},
   "outputs": [
    {
     "name": "stdout",
     "output_type": "stream",
     "text": [
      "<class 'pandas.core.frame.DataFrame'>\n",
      "RangeIndex: 107018 entries, 0 to 107017\n",
      "Data columns (total 3 columns):\n",
      " #   Column  Non-Null Count   Dtype \n",
      "---  ------  --------------   ----- \n",
      " 0   Id      107018 non-null  int64 \n",
      " 1   Review  107018 non-null  object\n",
      " 2   Label   107018 non-null  int64 \n",
      "dtypes: int64(2), object(1)\n",
      "memory usage: 2.4+ MB\n"
     ]
    }
   ],
   "source": [
    "df.info()"
   ]
  },
  {
   "cell_type": "code",
   "execution_count": 4,
   "metadata": {},
   "outputs": [
    {
     "data": {
      "text/plain": [
       "5    79173\n",
       "4    18054\n",
       "3     5071\n",
       "1     2469\n",
       "2     2251\n",
       "Name: Label, dtype: int64"
      ]
     },
     "execution_count": 4,
     "metadata": {},
     "output_type": "execute_result"
    }
   ],
   "source": [
    "df.Label.value_counts()"
   ]
  },
  {
   "cell_type": "code",
   "execution_count": 5,
   "metadata": {},
   "outputs": [
    {
     "data": {
      "image/png": "[encoded data removed]",
      "text/plain": [
       "<Figure size 432x288 with 1 Axes>"
      ]
     },
     "metadata": {
      "needs_background": "light"
     },
     "output_type": "display_data"
    }
   ],
   "source": [
    "Label_count = df.groupby('Label').count()\n",
    "plt.bar(Label_count.index.values, Label_count['Review'])\n",
    "plt.xlabel('Review Sentiments')\n",
    "plt.ylabel('Number of Review')\n",
    "plt.show()"
   ]
  },
  {
   "cell_type": "code",
   "execution_count": 6,
   "metadata": {},
   "outputs": [
    {
     "name": "stdout",
     "output_type": "stream",
     "text": [
      "Great course - I recommend it for all, especially IT and Business Managers! Label -  5\n",
      "\n",
      "\n",
      "Program demystifies the evolving world of CIOs in a typical global corporation.Coverage being introductory familiarizes participants nicely through some of the nuances & emerging trends.When I took the course participant numbers was fewer, so feedback was quite delayed. So one should plan to be patient to get their peer reviews.Based on peer reviews i sensed much variations in their expectations.Few sections are in French with Subtitles.Subtitle quality requires audit/review. Label -  4\n"
     ]
    }
   ],
   "source": [
    "print(df.iloc[5]['Review'], 'Label - ', df.iloc[5]['Label'])\n",
    "print('\\n')\n",
    "print(df.iloc[15]['Review'], 'Label - ', df.iloc[15]['Label'])"
   ]
  },
  {
   "cell_type": "code",
   "execution_count": 10,
   "metadata": {},
   "outputs": [
    {
     "data": {
      "image/png": "[encoded data removed]",
      "text/plain": [
       "<Figure size 432x288 with 1 Axes>"
      ]
     },
     "metadata": {
      "needs_background": "light"
     },
     "output_type": "display_data"
    }
   ],
   "source": [
    "import nltk\n",
    "from nltk.corpus import stopwords\n",
    "from wordcloud import WordCloud\n",
    "text = \" \".join(review for review in df.Review)\n",
    "\n",
    "wordcloud = WordCloud(max_font_size=80,max_words=25,background_color='white',stopwords=stopwords.words('english')).generate(text)\n",
    "plt.figure()\n",
    "plt.imshow(wordcloud, interpolation='bilinear')\n",
    "plt.axis('off')\n",
    "plt.show();"
   ]
  },
  {
   "cell_type": "code",
   "execution_count": 11,
   "metadata": {},
   "outputs": [],
   "source": [
    "import re\n",
    "import math\n",
    "from sklearn.model_selection import train_test_split\n",
    "from collections import Counter, defaultdict\n",
    "from bs4 import BeautifulSoup"
   ]
  },
  {
   "cell_type": "code",
   "execution_count": 12,
   "metadata": {},
   "outputs": [],
   "source": [
    "x_v = []\n",
    "\n",
    "for i in range(0, 107018):\n",
    "    clean = re.sub('[a-z A-Z\\s]+', '', df['Review'][i])\n",
    "    clean = clean.lower()\n",
    "    clean = clean.split()\n",
    "    clean = ''.join(clean)\n",
    "    stopwords_en = stopwords.words('english')\n",
    "    [w for w in re.split('\\W+', clean) if not w in stopwords_en]\n",
    "    x_v.append(clean)"
   ]
  },
  {
   "cell_type": "code",
   "execution_count": 38,
   "metadata": {},
   "outputs": [],
   "source": [
    "from sklearn.preprocessing import MultiLabelBinarizer\n",
    "vec = MultiLabelBinarizer()\n",
    "\n",
    "y = df['Label']"
   ]
  },
  {
   "cell_type": "code",
   "execution_count": 39,
   "metadata": {},
   "outputs": [
    {
     "data": {
      "text/plain": [
       "array([[0, 0, 0, ..., 0, 0, 0],\n",
       "       [0, 0, 0, ..., 0, 0, 0],\n",
       "       [1, 0, 0, ..., 0, 0, 0],\n",
       "       ...,\n",
       "       [0, 0, 0, ..., 0, 0, 0],\n",
       "       [0, 0, 0, ..., 0, 0, 0],\n",
       "       [0, 0, 0, ..., 0, 0, 0]])"
      ]
     },
     "execution_count": 39,
     "metadata": {},
     "output_type": "execute_result"
    }
   ],
   "source": [
    "xen = vec.fit_transform(x_v)\n",
    "xen"
   ]
  },
  {
   "cell_type": "code",
   "execution_count": 40,
   "metadata": {},
   "outputs": [],
   "source": [
    "classes = np.unique(y)\n",
    "\n",
    "def group_by_class(x, y):\n",
    "        data = dict()\n",
    "        for c in classes:\n",
    "            data[c] = x[np.where(y==c)]\n",
    "        return data"
   ]
  },
  {
   "cell_type": "code",
   "execution_count": 41,
   "metadata": {},
   "outputs": [
    {
     "data": {
      "text/plain": [
       "{1: array([[0, 0, 0, ..., 0, 0, 0],\n",
       "        [0, 0, 0, ..., 0, 0, 0],\n",
       "        [0, 0, 0, ..., 0, 0, 0],\n",
       "        ...,\n",
       "        [0, 0, 0, ..., 0, 0, 0],\n",
       "        [0, 0, 0, ..., 0, 0, 0],\n",
       "        [0, 0, 0, ..., 0, 0, 0]]),\n",
       " 2: array([[0, 0, 0, ..., 0, 0, 0],\n",
       "        [0, 0, 0, ..., 0, 0, 0],\n",
       "        [0, 0, 0, ..., 0, 0, 0],\n",
       "        ...,\n",
       "        [0, 0, 0, ..., 0, 0, 0],\n",
       "        [0, 0, 0, ..., 0, 0, 0],\n",
       "        [0, 0, 0, ..., 0, 0, 0]]),\n",
       " 3: array([[0, 0, 0, ..., 0, 0, 0],\n",
       "        [0, 0, 0, ..., 0, 0, 0],\n",
       "        [0, 0, 0, ..., 0, 0, 0],\n",
       "        ...,\n",
       "        [1, 0, 0, ..., 0, 0, 0],\n",
       "        [0, 0, 0, ..., 0, 0, 0],\n",
       "        [0, 0, 0, ..., 0, 0, 0]]),\n",
       " 4: array([[1, 0, 0, ..., 0, 0, 0],\n",
       "        [0, 0, 0, ..., 0, 0, 0],\n",
       "        [0, 0, 0, ..., 0, 0, 0],\n",
       "        ...,\n",
       "        [1, 0, 0, ..., 0, 0, 0],\n",
       "        [0, 0, 0, ..., 0, 0, 0],\n",
       "        [0, 0, 0, ..., 0, 0, 0]]),\n",
       " 5: array([[0, 0, 0, ..., 0, 0, 0],\n",
       "        [0, 0, 0, ..., 0, 0, 0],\n",
       "        [1, 0, 0, ..., 0, 0, 0],\n",
       "        ...,\n",
       "        [0, 0, 0, ..., 0, 0, 0],\n",
       "        [1, 0, 0, ..., 0, 0, 0],\n",
       "        [0, 0, 0, ..., 0, 0, 0]])}"
      ]
     },
     "execution_count": 41,
     "metadata": {},
     "output_type": "execute_result"
    }
   ],
   "source": [
    "group_by_class(xen, y)"
   ]
  },
  {
   "cell_type": "code",
   "execution_count": 52,
   "metadata": {},
   "outputs": [],
   "source": [
    "class MultinomialNavieBayes:\n",
    "    def __init__(self, classes):\n",
    "       # self.tokenizer = tokenizer\n",
    "        self.classes = classes\n",
    "        \n",
    "    def group_by_class(self, x, y):\n",
    "        data = dict()\n",
    "        for c in self.classes:\n",
    "            data[c] = x[np.where(y==c)]\n",
    "        return data\n",
    "    \n",
    "    def fit(self, x, y):\n",
    "        self.n_class_items = {}\n",
    "        self.log_class_prior = {}\n",
    "        self.word_counts = {}\n",
    "        self.vocab = set()\n",
    "        \n",
    "        n = len(x)\n",
    "        \n",
    "        grouped_data = self.group_by_class(x, y)\n",
    "        \n",
    "        for c, data in grouped_data.items():\n",
    "            self.n_class_items[c] = len(data)\n",
    "            self.log_class_prior[c] = math.log(self.n_class_items[c] / n)\n",
    "            self.word_counts[c] = defaultdict(lambda: 0)\n",
    "            \n",
    "            for text in data:\n",
    "                counts = Counter(x_v)\n",
    "                for word, count in counts.items():\n",
    "                    if word not in self.vocab:\n",
    "                        self.vocab.add(word)\n",
    "                        \n",
    "                    self.word_counts[c][word] += count\n",
    "        return self\n",
    "    \n",
    "    def laplace_smoothing(self, word, text_class):\n",
    "        num = self.word_counts[text_class][word] + 1\n",
    "        denom = self.n_class_items[text_class] + len(self.vocab)\n",
    "        return math.log(num / denom)\n",
    "    \n",
    "    def prediction(self, x):\n",
    "        result = []\n",
    "        for text in x:\n",
    "            class_score = {c: self.log_class_prior[c] for c in self.classes}\n",
    "            words = set(x_v)\n",
    "            for word in words:\n",
    "                if word not in self.vocab: continue\n",
    "                for c in self.classes:\n",
    "                    log_w_given_c = self.laplace_smoothing(word, c)\n",
    "                    class_score[c] += log_w_given_c\n",
    "                    \n",
    "            result.append(max(class_score, key=class_score.get))\n",
    "        return result"
   ]
  },
  {
   "cell_type": "code",
   "execution_count": 53,
   "metadata": {
    "scrolled": true
   },
   "outputs": [],
   "source": [
    "x = df['Review'].values\n",
    "y = df['Label'].values\n",
    "\n",
    "x_train, x_test, y_train, y_test = train_test_split(xen, y, test_size=0.2, random_state=42)"
   ]
  },
  {
   "cell_type": "code",
   "execution_count": 54,
   "metadata": {},
   "outputs": [],
   "source": [
    "MNB = MultinomialNavieBayes(classes=np.unique(y)).fit(x_train, y_train)"
   ]
  },
  {
   "cell_type": "code",
   "execution_count": 55,
   "metadata": {},
   "outputs": [],
   "source": [
    "y_obs = MNB.prediction(x_test)"
   ]
  },
  {
   "cell_type": "code",
   "execution_count": 56,
   "metadata": {},
   "outputs": [
    {
     "data": {
      "text/plain": [
       "0.7419641188562885"
      ]
     },
     "execution_count": 56,
     "metadata": {},
     "output_type": "execute_result"
    }
   ],
   "source": [
    "from sklearn.metrics import accuracy_score\n",
    "from sklearn.metrics import classification_report, confusion_matrix\n",
    "\n",
    "accuracy_score(y_test, y_obs)"
   ]
  },
  {
   "cell_type": "code",
   "execution_count": 57,
   "metadata": {},
   "outputs": [
    {
     "name": "stdout",
     "output_type": "stream",
     "text": [
      "              precision    recall  f1-score   support\n",
      "\n",
      "           1       0.00      0.00      0.00       493\n",
      "           2       0.00      0.00      0.00       484\n",
      "           3       0.00      0.00      0.00       933\n",
      "           4       0.00      0.00      0.00      3613\n",
      "           5       0.74      1.00      0.85     15881\n",
      "\n",
      "    accuracy                           0.74     21404\n",
      "   macro avg       0.15      0.20      0.17     21404\n",
      "weighted avg       0.55      0.74      0.63     21404\n",
      "\n"
     ]
    }
   ],
   "source": [
    "print(classification_report(y_test, y_obs))"
   ]
  },
  {
   "cell_type": "code",
   "execution_count": 58,
   "metadata": {},
   "outputs": [
    {
     "data": {
      "text/plain": [
       "array([[    0,     0,     0,     0,   493],\n",
       "       [    0,     0,     0,     0,   484],\n",
       "       [    0,     0,     0,     0,   933],\n",
       "       [    0,     0,     0,     0,  3613],\n",
       "       [    0,     0,     0,     0, 15881]], dtype=int64)"
      ]
     },
     "execution_count": 58,
     "metadata": {},
     "output_type": "execute_result"
    }
   ],
   "source": [
    "cnf_matrix = confusion_matrix(y_test, y_obs)\n",
    "cnf_matrix"
   ]
  },
  {
   "cell_type": "code",
   "execution_count": 59,
   "metadata": {},
   "outputs": [
    {
     "data": {
      "text/plain": [
       "Text(0.5, 257.44, 'Predicted sentiments')"
      ]
     },
     "execution_count": 59,
     "metadata": {},
     "output_type": "execute_result"
    },
    {
     "data": {
      "image/png": "[encoded data removed]",
      "text/plain": [
       "<Figure size 432x288 with 1 Axes>"
      ]
     },
     "metadata": {
      "needs_background": "light"
     },
     "output_type": "display_data"
    }
   ],
   "source": [
    "class_names = ['1', '2', '3', '4', '5']\n",
    "fig, ax = plt.subplots()\n",
    "\n",
    "sns.heatmap(pd.DataFrame(cnf_matrix), annot=True,fmt='d', cbar=False,xticklabels=class_names,yticklabels=class_names)\n",
    "ax.xaxis.set_label_position('top')\n",
    "plt.tight_layout()\n",
    "plt.ylabel('Actual sentiments')\n",
    "plt.xlabel('Predicted sentiments')"
   ]
  },
  {
   "cell_type": "code",
   "execution_count": null,
   "metadata": {},
   "outputs": [],
   "source": []
  }
 ],
 "metadata": {
  "kernelspec": {
   "display_name": "Python 3",
   "language": "python",
   "name": "python3"
  },
  "language_info": {
   "codemirror_mode": {
    "name": "ipython",
    "version": 3
   },
   "file_extension": ".py",
   "mimetype": "text/x-python",
   "name": "python",
   "nbconvert_exporter": "python",
   "pygments_lexer": "ipython3",
   "version": "3.7.6"
  }
 },
 "nbformat": 4,
 "nbformat_minor": 4
}
